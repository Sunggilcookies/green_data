{
 "cells": [
  {
   "cell_type": "code",
   "execution_count": 7,
   "id": "26d2d861",
   "metadata": {},
   "outputs": [
    {
     "ename": "SyntaxError",
     "evalue": "invalid syntax. Maybe you meant '==' or ':=' instead of '='? (1736824439.py, line 9)",
     "output_type": "error",
     "traceback": [
      "\u001b[1;36m  Cell \u001b[1;32mIn[7], line 9\u001b[1;36m\u001b[0m\n\u001b[1;33m    Button(window, text='(0, 0)').gird(row=0, column=0), padx=0;\u001b[0m\n\u001b[1;37m                                                         ^\u001b[0m\n\u001b[1;31mSyntaxError\u001b[0m\u001b[1;31m:\u001b[0m invalid syntax. Maybe you meant '==' or ':=' instead of '='?\n"
     ]
    }
   ],
   "source": [
    "from tkinter import *\n",
    "window = Tk()\n",
    "window.tk\n",
    "window.title('gird')\n",
    "window.geometry(\"300x200\")\n",
    "window.option_add(\"*font\", \"맑은 고딕 15\") \n",
    "\n",
    "#바깥 여백 - pad:x축 방향으로 여백 설정, pad:y축 방향으로 여백\n",
    "Button(window, text='(0, 0)').gird(row=0, column=0), padx=0;\n",
    "Button(window, text='(0, 1)').gird(row=0, column=1)\n",
    "#셀병합 columnsapn=2\n",
    "Button(window, text='(1,0)').gridr=(row=1, columnspan=2, pady = 20\n",
    "Button(window, text='(2,0)').gridr=(row=2, column = 0, pady = 20\n",
    "\n",
    "window.mainloop()"
   ]
  },
  {
   "cell_type": "code",
   "execution_count": null,
   "id": "26b3e694",
   "metadata": {},
   "outputs": [],
   "source": []
  }
 ],
 "metadata": {
  "kernelspec": {
   "display_name": "Python 3 (ipykernel)",
   "language": "python",
   "name": "python3"
  },
  "language_info": {
   "codemirror_mode": {
    "name": "ipython",
    "version": 3
   },
   "file_extension": ".py",
   "mimetype": "text/x-python",
   "name": "python",
   "nbconvert_exporter": "python",
   "pygments_lexer": "ipython3",
   "version": "3.10.9"
  }
 },
 "nbformat": 4,
 "nbformat_minor": 5
}
