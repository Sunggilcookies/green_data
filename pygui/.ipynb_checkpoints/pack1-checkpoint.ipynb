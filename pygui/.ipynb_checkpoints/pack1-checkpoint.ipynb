{
 "cells": [
  {
   "cell_type": "code",
   "execution_count": 20,
   "id": "0b01f2b3",
   "metadata": {},
   "outputs": [],
   "source": [
    "from tkinter import *\n",
    "window= Tk()\n",
    "window.title(\"pack\")\n",
    "window.geometry(\"300x100\")\n",
    "window.option_add(\"Font\", \"바탕체 15\")\n",
    "Label(window, text='안녕하세요').pack()\n",
    "btn = Button(window)\n",
    "btn.pack(side = 'left') #side = 'right','le'\n",
    "btn.pack(side = 'top') \n",
    "btn.config(text='확인') #side 속성\n",
    "\n",
    "\n",
    "window.mainloop()"
   ]
  },
  {
   "cell_type": "code",
   "execution_count": null,
   "id": "9d5cd39d",
   "metadata": {},
   "outputs": [],
   "source": []
  }
 ],
 "metadata": {
  "kernelspec": {
   "display_name": "Python 3 (ipykernel)",
   "language": "python",
   "name": "python3"
  },
  "language_info": {
   "codemirror_mode": {
    "name": "ipython",
    "version": 3
   },
   "file_extension": ".py",
   "mimetype": "text/x-python",
   "name": "python",
   "nbconvert_exporter": "python",
   "pygments_lexer": "ipython3",
   "version": "3.10.9"
  }
 },
 "nbformat": 4,
 "nbformat_minor": 5
}
